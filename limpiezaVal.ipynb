{
 "cells": [
  {
   "cell_type": "code",
   "execution_count": 76,
   "metadata": {},
   "outputs": [],
   "source": [
    "import pandas as pd\n",
    "import os"
   ]
  },
  {
   "cell_type": "code",
   "execution_count": 77,
   "metadata": {},
   "outputs": [],
   "source": [
    "Sales = pd.read_csv(\"files/salesClean.csv\")\n",
    "Flights = pd.read_csv(\"files/limpios2023.csv\")"
   ]
  },
  {
   "cell_type": "code",
   "execution_count": 78,
   "metadata": {},
   "outputs": [
    {
     "data": {
      "text/html": [
       "<div>\n",
       "<style scoped>\n",
       "    .dataframe tbody tr th:only-of-type {\n",
       "        vertical-align: middle;\n",
       "    }\n",
       "\n",
       "    .dataframe tbody tr th {\n",
       "        vertical-align: top;\n",
       "    }\n",
       "\n",
       "    .dataframe thead th {\n",
       "        text-align: right;\n",
       "    }\n",
       "</style>\n",
       "<table border=\"1\" class=\"dataframe\">\n",
       "  <thead>\n",
       "    <tr style=\"text-align: right;\">\n",
       "      <th></th>\n",
       "      <th>Flight_ID</th>\n",
       "      <th>ProductType</th>\n",
       "      <th>ProductName</th>\n",
       "      <th>Quantity</th>\n",
       "      <th>TotalSales</th>\n",
       "    </tr>\n",
       "  </thead>\n",
       "  <tbody>\n",
       "    <tr>\n",
       "      <th>0</th>\n",
       "      <td>a05290288259526edd3601160b10e1de</td>\n",
       "      <td>Botanas</td>\n",
       "      <td>Carne Seca Habanero</td>\n",
       "      <td>1</td>\n",
       "      <td>55.0</td>\n",
       "    </tr>\n",
       "    <tr>\n",
       "      <th>1</th>\n",
       "      <td>08f6f97437df8db101b050f1110be656</td>\n",
       "      <td>Licores</td>\n",
       "      <td>Jw Red Label</td>\n",
       "      <td>2</td>\n",
       "      <td>240.0</td>\n",
       "    </tr>\n",
       "    <tr>\n",
       "      <th>2</th>\n",
       "      <td>4e09c949826a77207868412baeff6d30</td>\n",
       "      <td>Licores</td>\n",
       "      <td>Jack And Coke</td>\n",
       "      <td>8</td>\n",
       "      <td>576.0</td>\n",
       "    </tr>\n",
       "    <tr>\n",
       "      <th>3</th>\n",
       "      <td>c3e1568fe46c68d3174681d322d412b3</td>\n",
       "      <td>Licores</td>\n",
       "      <td>Jw Red Label</td>\n",
       "      <td>2</td>\n",
       "      <td>240.0</td>\n",
       "    </tr>\n",
       "    <tr>\n",
       "      <th>4</th>\n",
       "      <td>34ae909bf3699372fcd66f02af0bdd54</td>\n",
       "      <td>Licores</td>\n",
       "      <td>Ron Bacardi</td>\n",
       "      <td>2</td>\n",
       "      <td>240.0</td>\n",
       "    </tr>\n",
       "    <tr>\n",
       "      <th>...</th>\n",
       "      <td>...</td>\n",
       "      <td>...</td>\n",
       "      <td>...</td>\n",
       "      <td>...</td>\n",
       "      <td>...</td>\n",
       "    </tr>\n",
       "    <tr>\n",
       "      <th>2146675</th>\n",
       "      <td>638cf1904f936c50aea4a6f123ee07cf</td>\n",
       "      <td>Licores</td>\n",
       "      <td>Vino Tinto Sangre De Toro</td>\n",
       "      <td>1</td>\n",
       "      <td>155.0</td>\n",
       "    </tr>\n",
       "    <tr>\n",
       "      <th>2146676</th>\n",
       "      <td>04c5a19b8382a888d5c4c7b4932e783e</td>\n",
       "      <td>Licores</td>\n",
       "      <td>Vino Tinto Sangre De Toro</td>\n",
       "      <td>1</td>\n",
       "      <td>155.0</td>\n",
       "    </tr>\n",
       "    <tr>\n",
       "      <th>2146677</th>\n",
       "      <td>0291f6b201d2b24717a8ed7ca04f2d90</td>\n",
       "      <td>Licores</td>\n",
       "      <td>Vino Tinto Sangre De Toro</td>\n",
       "      <td>1</td>\n",
       "      <td>155.0</td>\n",
       "    </tr>\n",
       "    <tr>\n",
       "      <th>2146678</th>\n",
       "      <td>a10e3ac614fd434d6312897e07727c08</td>\n",
       "      <td>Licores</td>\n",
       "      <td>Vino Tinto Sangre De Toro</td>\n",
       "      <td>1</td>\n",
       "      <td>155.0</td>\n",
       "    </tr>\n",
       "    <tr>\n",
       "      <th>2146679</th>\n",
       "      <td>3f53b6ab66d674c6ecec9ebb5d040460</td>\n",
       "      <td>Licores</td>\n",
       "      <td>Vino Tinto Sangre De Toro</td>\n",
       "      <td>1</td>\n",
       "      <td>155.0</td>\n",
       "    </tr>\n",
       "  </tbody>\n",
       "</table>\n",
       "<p>2146680 rows × 5 columns</p>\n",
       "</div>"
      ],
      "text/plain": [
       "                                Flight_ID ProductType  \\\n",
       "0        a05290288259526edd3601160b10e1de     Botanas   \n",
       "1        08f6f97437df8db101b050f1110be656     Licores   \n",
       "2        4e09c949826a77207868412baeff6d30     Licores   \n",
       "3        c3e1568fe46c68d3174681d322d412b3     Licores   \n",
       "4        34ae909bf3699372fcd66f02af0bdd54     Licores   \n",
       "...                                   ...         ...   \n",
       "2146675  638cf1904f936c50aea4a6f123ee07cf     Licores   \n",
       "2146676  04c5a19b8382a888d5c4c7b4932e783e     Licores   \n",
       "2146677  0291f6b201d2b24717a8ed7ca04f2d90     Licores   \n",
       "2146678  a10e3ac614fd434d6312897e07727c08     Licores   \n",
       "2146679  3f53b6ab66d674c6ecec9ebb5d040460     Licores   \n",
       "\n",
       "                       ProductName  Quantity  TotalSales  \n",
       "0              Carne Seca Habanero         1        55.0  \n",
       "1                    Jw Red Label          2       240.0  \n",
       "2                    Jack And Coke         8       576.0  \n",
       "3                     Jw Red Label         2       240.0  \n",
       "4                      Ron Bacardi         2       240.0  \n",
       "...                            ...       ...         ...  \n",
       "2146675  Vino Tinto Sangre De Toro         1       155.0  \n",
       "2146676  Vino Tinto Sangre De Toro         1       155.0  \n",
       "2146677  Vino Tinto Sangre De Toro         1       155.0  \n",
       "2146678  Vino Tinto Sangre De Toro         1       155.0  \n",
       "2146679  Vino Tinto Sangre De Toro         1       155.0  \n",
       "\n",
       "[2146680 rows x 5 columns]"
      ]
     },
     "execution_count": 78,
     "metadata": {},
     "output_type": "execute_result"
    }
   ],
   "source": [
    "Sales"
   ]
  },
  {
   "cell_type": "code",
   "execution_count": 79,
   "metadata": {},
   "outputs": [
    {
     "name": "stdout",
     "output_type": "stream",
     "text": [
      "2135157\n"
     ]
    }
   ],
   "source": [
    "join = Flights.merge(Sales, on=\"Flight_ID\")\n",
    "print(len(join))\n",
    "a = join['Flight_ID'].unique()\n",
    "f_unique = Flights['Flight_ID'].unique()\n"
   ]
  },
  {
   "cell_type": "code",
   "execution_count": 80,
   "metadata": {},
   "outputs": [
    {
     "data": {
      "text/plain": [
       "(103863, 121724, 119151)"
      ]
     },
     "execution_count": 80,
     "metadata": {},
     "output_type": "execute_result"
    }
   ],
   "source": [
    "len(a),len(Flights),len(b)"
   ]
  },
  {
   "cell_type": "code",
   "execution_count": 89,
   "metadata": {},
   "outputs": [
    {
     "name": "stdout",
     "output_type": "stream",
     "text": [
      "2573\n"
     ]
    },
    {
     "data": {
      "text/plain": [
       "116738"
      ]
     },
     "execution_count": 89,
     "metadata": {},
     "output_type": "execute_result"
    }
   ],
   "source": [
    "duplicate_flights = Flights[Flights['Flight_ID'].duplicated()]['Flight_ID']\n",
    "duplicate_list = duplicate_flights.tolist()\n",
    "print(len(duplicate_list))\n",
    "# Filtrar DataFrame excluyendo filas con IDs en la lista\n",
    "noDuplicateFlights = Flights[~Flights['Flight_ID'].isin(duplicate_list)]\n",
    "len(noDuplicateFlights)\n",
    "prt"
   ]
  },
  {
   "cell_type": "code",
   "execution_count": 82,
   "metadata": {},
   "outputs": [
    {
     "data": {
      "text/plain": [
       "2135157"
      ]
     },
     "execution_count": 82,
     "metadata": {},
     "output_type": "execute_result"
    }
   ],
   "source": [
    "join = Flights.merge(Sales, on=\"Flight_ID\")\n",
    "len(join)"
   ]
  },
  {
   "cell_type": "code",
   "execution_count": 83,
   "metadata": {},
   "outputs": [
    {
     "data": {
      "text/html": [
       "<div>\n",
       "<style scoped>\n",
       "    .dataframe tbody tr th:only-of-type {\n",
       "        vertical-align: middle;\n",
       "    }\n",
       "\n",
       "    .dataframe tbody tr th {\n",
       "        vertical-align: top;\n",
       "    }\n",
       "\n",
       "    .dataframe thead th {\n",
       "        text-align: right;\n",
       "    }\n",
       "</style>\n",
       "<table border=\"1\" class=\"dataframe\">\n",
       "  <thead>\n",
       "    <tr style=\"text-align: right;\">\n",
       "      <th></th>\n",
       "      <th>STD</th>\n",
       "    </tr>\n",
       "    <tr>\n",
       "      <th>Flight_ID</th>\n",
       "      <th></th>\n",
       "    </tr>\n",
       "  </thead>\n",
       "  <tbody>\n",
       "    <tr>\n",
       "      <th>63dca0dbfe6a982802a9fffdfc146049</th>\n",
       "      <td>3</td>\n",
       "    </tr>\n",
       "    <tr>\n",
       "      <th>b86769057b12484090d3a3e7f6435099</th>\n",
       "      <td>3</td>\n",
       "    </tr>\n",
       "    <tr>\n",
       "      <th>d036537b7fc6d99ded2fed7643c8b98a</th>\n",
       "      <td>3</td>\n",
       "    </tr>\n",
       "    <tr>\n",
       "      <th>13e310d6870b4b8473b4135bf79f4773</th>\n",
       "      <td>3</td>\n",
       "    </tr>\n",
       "    <tr>\n",
       "      <th>ecc73ab8941e49875e35235962e9c9ea</th>\n",
       "      <td>3</td>\n",
       "    </tr>\n",
       "    <tr>\n",
       "      <th>...</th>\n",
       "      <td>...</td>\n",
       "    </tr>\n",
       "    <tr>\n",
       "      <th>56a37cfe9bffcfea15c231a58aee4f17</th>\n",
       "      <td>1</td>\n",
       "    </tr>\n",
       "    <tr>\n",
       "      <th>5705b2916fef9e8f878c102e559036b7</th>\n",
       "      <td>1</td>\n",
       "    </tr>\n",
       "    <tr>\n",
       "      <th>5712bb2c8ee124f02fcb2a3651612434</th>\n",
       "      <td>1</td>\n",
       "    </tr>\n",
       "    <tr>\n",
       "      <th>5716e6cc81c40f71f4ba705f053b98f7</th>\n",
       "      <td>1</td>\n",
       "    </tr>\n",
       "    <tr>\n",
       "      <th>ffdf91bedf8c7f11770ae796f94fc466</th>\n",
       "      <td>1</td>\n",
       "    </tr>\n",
       "  </tbody>\n",
       "</table>\n",
       "<p>2413 rows × 1 columns</p>\n",
       "</div>"
      ],
      "text/plain": [
       "                                  STD\n",
       "Flight_ID                            \n",
       "63dca0dbfe6a982802a9fffdfc146049    3\n",
       "b86769057b12484090d3a3e7f6435099    3\n",
       "d036537b7fc6d99ded2fed7643c8b98a    3\n",
       "13e310d6870b4b8473b4135bf79f4773    3\n",
       "ecc73ab8941e49875e35235962e9c9ea    3\n",
       "...                               ...\n",
       "56a37cfe9bffcfea15c231a58aee4f17    1\n",
       "5705b2916fef9e8f878c102e559036b7    1\n",
       "5712bb2c8ee124f02fcb2a3651612434    1\n",
       "5716e6cc81c40f71f4ba705f053b98f7    1\n",
       "ffdf91bedf8c7f11770ae796f94fc466    1\n",
       "\n",
       "[2413 rows x 1 columns]"
      ]
     },
     "execution_count": 83,
     "metadata": {},
     "output_type": "execute_result"
    }
   ],
   "source": [
    "# Identify duplicate flight IDs\n",
    "duplicate_flights = Flights[Flights['Flight_ID'].duplicated()]\n",
    "\n",
    "# Extract unique duplicate flight IDs\n",
    "unique_duplicate_flight_ids = duplicate_flights['Flight_ID'].unique()\n",
    "\n",
    "a = duplicate_flights.groupby('Flight_ID').agg({'STD': 'count'})\n",
    "\n",
    "a.sort_values(by='STD', ascending=False)"
   ]
  },
  {
   "cell_type": "code",
   "execution_count": null,
   "metadata": {},
   "outputs": [],
   "source": []
  }
 ],
 "metadata": {
  "kernelspec": {
   "display_name": "Python 3",
   "language": "python",
   "name": "python3"
  },
  "language_info": {
   "codemirror_mode": {
    "name": "ipython",
    "version": 3
   },
   "file_extension": ".py",
   "mimetype": "text/x-python",
   "name": "python",
   "nbconvert_exporter": "python",
   "pygments_lexer": "ipython3",
   "version": "3.12.2"
  }
 },
 "nbformat": 4,
 "nbformat_minor": 2
}
