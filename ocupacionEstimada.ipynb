{
 "cells": [
  {
   "cell_type": "code",
   "execution_count": null,
   "metadata": {},
   "outputs": [],
   "source": [
    "# Import necessary libraries\n",
    "import pandas as pd\n",
    "from sklearn.model_selection import train_test_split\n",
    "from sklearn.linear_model import LinearRegression\n",
    "\n",
    "# Load the flight data from the database\n",
    "flight_data = pd.read_csv('Flights TEC_Valid.csv')  # Replace 'flight_data.csv' with your actual flight data file\n",
    "\n",
    "# Preprocess the data\n",
    "flight_data['STD'] = pd.to_datetime(flight_data['STD'])  # Convert flight_date to datetime\n",
    "flight_data['STA'] = pd.to_datetime(flight_data['STA'])  # Convert booking_date to datetime\n",
    "\n",
    "\n",
    "# Split the data into training and testing sets\n",
    "X = flight_data[['Bookings']]  # Input featuresi\n",
    "y = flight_data['Passengers']  # Target variable\n",
    "X_train, X_test, y_train, y_test = train_test_split(X, y, test_size=0.2, random_state=42)\n",
    "\n",
    "# Train the linear regression model\n",
    "model = LinearRegression()\n",
    "flight_data = pd.read_csv('Flights TEC_Valid.csv')\n",
    "model.fit(X_train, y_train)\n",
    "\n",
    "# Predict the occupancy for new flight dates\n",
    "# new_flight_dates = pd.to_datetime(['2022-01-01', '2022-02-01', '2022-03-01'])  # Replace with your desired flight dates\n",
    "# new_bookings = pd.DataFrame({'flight_date': new_flight_dates})\n",
    "# new_bookings['booking_date'] = pd.to_datetime('today')  # Replace with the actual booking date\n",
    "# new_bookings['days_before_flight'] = (new_bookings['flight_date'] - new_bookings['booking_date']).dt.days\n",
    "\n",
    "# predicted_occupancy = model.predict(new_bookings[['days_before_flight']])\n",
    "# print(predicted_occupancy)\n",
    "\n",
    "# flight_data = pd.read_csv('Flights TEC_Valid.csv')\n"
   ]
  }
 ],
 "metadata": {
  "language_info": {
   "name": "python"
  }
 },
 "nbformat": 4,
 "nbformat_minor": 2
}
